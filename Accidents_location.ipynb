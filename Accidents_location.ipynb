{
 "cells": [
  {
   "cell_type": "code",
   "execution_count": 2,
   "metadata": {},
   "outputs": [],
   "source": [
    "import pandas as pd \n",
    "import numpy as np \n",
    "import seaborn as sns \n",
    "import matplotlib.pyplot as plt\n",
    "import geoplotlib\n",
    "import json\n",
    "import folium\n",
    "import os\n",
    "from folium import plugins\n",
    "from folium.plugins import *\n",
    "from folium.utilities import *\n",
    "from folium.features import *\n",
    "import requests\n",
    "from xml.etree import ElementTree\n",
    "import branca.colormap as cm"
   ]
  },
  {
   "cell_type": "code",
   "execution_count": 3,
   "metadata": {},
   "outputs": [],
   "source": [
    "#Importing Datasets\n",
    "\n",
    "data = pd.read_csv('Data/5d067e6d8518921094fdab22_Accidents.csv')\n"
   ]
  },
  {
   "cell_type": "code",
   "execution_count": 4,
   "metadata": {},
   "outputs": [
    {
     "data": {
      "text/plain": [
       "Index(['Unnamed: 0', 'Accident_Time', 'Accident_Date_G', 'Rno', 'Road_Type',\n",
       "       'Region', 'Road_Status', 'Weather_Status', 'Dead_Number',\n",
       "       'Injuries_Number', 'Damage_Road_Type', 'Accident_Type', 'Car',\n",
       "       'Small_Truck', 'Big_Truck', 'Other_Car', 'Driver', 'Way', 'Vehicle',\n",
       "       'Animal', 'Vehicles_Number', 'Paints', 'Eyes', 'Road_Close_Days',\n",
       "       'Road_Close_Hours', 'GEOMETRIC_RoadTYPE', 'long', 'lat'],\n",
       "      dtype='object')"
      ]
     },
     "execution_count": 4,
     "metadata": {},
     "output_type": "execute_result"
    }
   ],
   "source": [
    "data.columns"
   ]
  },
  {
   "cell_type": "code",
   "execution_count": 8,
   "metadata": {},
   "outputs": [
    {
     "data": {
      "text/plain": [
       "Region    object\n",
       "dtype: object"
      ]
     },
     "execution_count": 8,
     "metadata": {},
     "output_type": "execute_result"
    }
   ],
   "source": [
    "#importing Json file \n",
    "Saudi_geo = os.path.join('Data', 'regions.json')\n",
    "geo_json_data = json.load(open(Saudi_geo))\n",
    "\n",
    "#putting airport locations in a list\n",
    "locations1 = data[data.Dead_Number == 0][['lat', 'long']].dropna()\n",
    "locationlist1 = locations1.values.tolist()\n",
    "len(locationlist1)\n",
    "\n",
    "locations2 = data[data.Dead_Number >= 1][['lat', 'long']].dropna()\n",
    "locationlist2 = locations2.values.tolist()\n",
    "\n",
    "# Airport_names = airports['Name'].apply(str)\n",
    "# nameslist = Airport_names.values.tolist()\n",
    "# len(nameslist)\n",
    "\n",
    "\n",
    "Regions = data[['Region' ]].drop_duplicates()\n",
    "Regions['Region'] = Regions['Region'].astype('str') \n",
    "Regions['Region'] = Regions['Region'].str.strip()\n",
    "Regions.head()\n",
    "Regions.dtypes\n"
   ]
  },
  {
   "cell_type": "code",
   "execution_count": 19,
   "metadata": {},
   "outputs": [
    {
     "data": {
      "text/html": [
       "<div>\n",
       "<style scoped>\n",
       "    .dataframe tbody tr th:only-of-type {\n",
       "        vertical-align: middle;\n",
       "    }\n",
       "\n",
       "    .dataframe tbody tr th {\n",
       "        vertical-align: top;\n",
       "    }\n",
       "\n",
       "    .dataframe thead th {\n",
       "        text-align: right;\n",
       "    }\n",
       "</style>\n",
       "<table border=\"1\" class=\"dataframe\">\n",
       "  <thead>\n",
       "    <tr style=\"text-align: right;\">\n",
       "      <th></th>\n",
       "      <th>Region</th>\n",
       "    </tr>\n",
       "  </thead>\n",
       "  <tbody>\n",
       "    <tr>\n",
       "      <th>0</th>\n",
       "      <td>Qassim</td>\n",
       "    </tr>\n",
       "    <tr>\n",
       "      <th>4</th>\n",
       "      <td>Hail</td>\n",
       "    </tr>\n",
       "    <tr>\n",
       "      <th>8</th>\n",
       "      <td>Madina</td>\n",
       "    </tr>\n",
       "    <tr>\n",
       "      <th>41</th>\n",
       "      <td>EP</td>\n",
       "    </tr>\n",
       "    <tr>\n",
       "      <th>51</th>\n",
       "      <td>Riyadh</td>\n",
       "    </tr>\n",
       "  </tbody>\n",
       "</table>\n",
       "</div>"
      ],
      "text/plain": [
       "    Region\n",
       "0   Qassim\n",
       "4     Hail\n",
       "8   Madina\n",
       "41      EP\n",
       "51  Riyadh"
      ]
     },
     "execution_count": 19,
     "metadata": {},
     "output_type": "execute_result"
    }
   ],
   "source": [
    "Regions.head()"
   ]
  },
  {
   "cell_type": "code",
   "execution_count": 11,
   "metadata": {},
   "outputs": [],
   "source": [
    "#Creating the map \n",
    "m= folium.Map(location=[data['lat'].mean(),data['long'].mean()],\n",
    "              zoom_start=3,\n",
    "              tiles = 'Mapbox Bright')\n",
    "\n",
    "m.add_tile_layer(tiles='stamenterrain', name = 'stamenterrain')\n",
    "\n",
    "#creating a Choropleth of GDP on the map  \n",
    "# folium.Choropleth(geo_data=Saudi_geo,\n",
    "#                   name=' GDP Choropleth',\n",
    "#                   data=countries,\n",
    "#                   columns=['ID','GDP'],\n",
    "#                   key_on='feature.id',\n",
    "#                   fill_color='YlGn',\n",
    "#                   fill_opacity=0.7,\n",
    "#                   line_opacity=0.5,\n",
    "#                   legend_name='GDP ($ per capita)',\n",
    "#                   reset=True).add_to(m)\n",
    "\n",
    "\n",
    "#Adding Airports points to the map\n",
    "airports_markers1 = folium.FeatureGroup(name=\" Accedents no death \")\n",
    "for point in range(0, len(locationlist1)):\n",
    "    airports_markers1.add_child(folium.CircleMarker(location=locationlist1[point],radius=1))\n",
    "\n",
    "airports_markers2 = folium.FeatureGroup(name=\" Accedents death \")\n",
    "for point in range(0, len(locationlist2)):\n",
    "    airports_markers2.add_child(folium.CircleMarker(location=locationlist2[point],radius=1, color='Red'))\n",
    "       \n",
    "\n",
    "#adding the layer controller   \n",
    "m.add_child(airports_markers1)\n",
    "m.add_child(airports_markers2)\n",
    "m.add_child(folium.LayerControl())\n",
    "\n",
    "m.save('accidents.html')"
   ]
  },
  {
   "cell_type": "code",
   "execution_count": null,
   "metadata": {},
   "outputs": [],
   "source": []
  }
 ],
 "metadata": {
  "kernelspec": {
   "display_name": "Python 3",
   "language": "python",
   "name": "python3"
  },
  "language_info": {
   "codemirror_mode": {
    "name": "ipython",
    "version": 3
   },
   "file_extension": ".py",
   "mimetype": "text/x-python",
   "name": "python",
   "nbconvert_exporter": "python",
   "pygments_lexer": "ipython3",
   "version": "3.7.1"
  }
 },
 "nbformat": 4,
 "nbformat_minor": 2
}
